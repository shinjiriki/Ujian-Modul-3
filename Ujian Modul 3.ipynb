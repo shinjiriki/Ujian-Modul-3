{
 "cells": [
  {
   "cell_type": "code",
   "execution_count": 56,
   "id": "temporal-import",
   "metadata": {},
   "outputs": [],
   "source": [
    "import pandas as pd\n",
    "import numpy as np\n",
    "import matplotlib.pyplot as plt\n",
    "import seaborn as sns\n",
    "import warnings\n",
    "warnings.filterwarnings('ignore')\n",
    "from jupyterthemes import jtplot\n",
    "jtplot.style(theme = 'monokai', context = 'notebook',ticks=True, grid=False)"
   ]
  },
  {
   "cell_type": "code",
   "execution_count": 2,
   "id": "informed-wayne",
   "metadata": {},
   "outputs": [],
   "source": [
    "df_eda = pd.read_csv('hotel_bookings.csv')[:5000]"
   ]
  },
  {
   "cell_type": "code",
   "execution_count": 3,
   "id": "loaded-universal",
   "metadata": {},
   "outputs": [
    {
     "data": {
      "text/html": [
       "<div>\n",
       "<style scoped>\n",
       "    .dataframe tbody tr th:only-of-type {\n",
       "        vertical-align: middle;\n",
       "    }\n",
       "\n",
       "    .dataframe tbody tr th {\n",
       "        vertical-align: top;\n",
       "    }\n",
       "\n",
       "    .dataframe thead th {\n",
       "        text-align: right;\n",
       "    }\n",
       "</style>\n",
       "<table border=\"1\" class=\"dataframe\">\n",
       "  <thead>\n",
       "    <tr style=\"text-align: right;\">\n",
       "      <th></th>\n",
       "      <th>hotel</th>\n",
       "      <th>is_canceled</th>\n",
       "      <th>adults</th>\n",
       "      <th>children</th>\n",
       "      <th>babies</th>\n",
       "      <th>meal</th>\n",
       "      <th>country</th>\n",
       "      <th>market_segment</th>\n",
       "      <th>distribution_channel</th>\n",
       "      <th>reserved_room_type</th>\n",
       "      <th>booking_changes</th>\n",
       "      <th>deposit_type</th>\n",
       "      <th>days_in_waiting_list</th>\n",
       "      <th>customer_type</th>\n",
       "      <th>required_car_parking_spaces</th>\n",
       "      <th>total_of_special_requests</th>\n",
       "    </tr>\n",
       "  </thead>\n",
       "  <tbody>\n",
       "    <tr>\n",
       "      <th>0</th>\n",
       "      <td>Resort Hotel</td>\n",
       "      <td>0</td>\n",
       "      <td>2</td>\n",
       "      <td>0.0</td>\n",
       "      <td>0</td>\n",
       "      <td>BB</td>\n",
       "      <td>PRT</td>\n",
       "      <td>Direct</td>\n",
       "      <td>Direct</td>\n",
       "      <td>C</td>\n",
       "      <td>3</td>\n",
       "      <td>No Deposit</td>\n",
       "      <td>0</td>\n",
       "      <td>Transient</td>\n",
       "      <td>0</td>\n",
       "      <td>0</td>\n",
       "    </tr>\n",
       "    <tr>\n",
       "      <th>1</th>\n",
       "      <td>Resort Hotel</td>\n",
       "      <td>0</td>\n",
       "      <td>2</td>\n",
       "      <td>0.0</td>\n",
       "      <td>0</td>\n",
       "      <td>BB</td>\n",
       "      <td>PRT</td>\n",
       "      <td>Direct</td>\n",
       "      <td>Direct</td>\n",
       "      <td>C</td>\n",
       "      <td>4</td>\n",
       "      <td>No Deposit</td>\n",
       "      <td>0</td>\n",
       "      <td>Transient</td>\n",
       "      <td>0</td>\n",
       "      <td>0</td>\n",
       "    </tr>\n",
       "    <tr>\n",
       "      <th>2</th>\n",
       "      <td>Resort Hotel</td>\n",
       "      <td>0</td>\n",
       "      <td>1</td>\n",
       "      <td>0.0</td>\n",
       "      <td>0</td>\n",
       "      <td>BB</td>\n",
       "      <td>GBR</td>\n",
       "      <td>Direct</td>\n",
       "      <td>Direct</td>\n",
       "      <td>A</td>\n",
       "      <td>0</td>\n",
       "      <td>No Deposit</td>\n",
       "      <td>0</td>\n",
       "      <td>Transient</td>\n",
       "      <td>0</td>\n",
       "      <td>0</td>\n",
       "    </tr>\n",
       "    <tr>\n",
       "      <th>3</th>\n",
       "      <td>Resort Hotel</td>\n",
       "      <td>0</td>\n",
       "      <td>1</td>\n",
       "      <td>0.0</td>\n",
       "      <td>0</td>\n",
       "      <td>BB</td>\n",
       "      <td>GBR</td>\n",
       "      <td>Corporate</td>\n",
       "      <td>Corporate</td>\n",
       "      <td>A</td>\n",
       "      <td>0</td>\n",
       "      <td>No Deposit</td>\n",
       "      <td>0</td>\n",
       "      <td>Transient</td>\n",
       "      <td>0</td>\n",
       "      <td>0</td>\n",
       "    </tr>\n",
       "    <tr>\n",
       "      <th>4</th>\n",
       "      <td>Resort Hotel</td>\n",
       "      <td>0</td>\n",
       "      <td>2</td>\n",
       "      <td>0.0</td>\n",
       "      <td>0</td>\n",
       "      <td>BB</td>\n",
       "      <td>GBR</td>\n",
       "      <td>Online TA</td>\n",
       "      <td>TA/TO</td>\n",
       "      <td>A</td>\n",
       "      <td>0</td>\n",
       "      <td>No Deposit</td>\n",
       "      <td>0</td>\n",
       "      <td>Transient</td>\n",
       "      <td>0</td>\n",
       "      <td>1</td>\n",
       "    </tr>\n",
       "  </tbody>\n",
       "</table>\n",
       "</div>"
      ],
      "text/plain": [
       "          hotel  is_canceled  adults  children  babies meal country  \\\n",
       "0  Resort Hotel            0       2       0.0       0   BB     PRT   \n",
       "1  Resort Hotel            0       2       0.0       0   BB     PRT   \n",
       "2  Resort Hotel            0       1       0.0       0   BB     GBR   \n",
       "3  Resort Hotel            0       1       0.0       0   BB     GBR   \n",
       "4  Resort Hotel            0       2       0.0       0   BB     GBR   \n",
       "\n",
       "  market_segment distribution_channel reserved_room_type  booking_changes  \\\n",
       "0         Direct               Direct                  C                3   \n",
       "1         Direct               Direct                  C                4   \n",
       "2         Direct               Direct                  A                0   \n",
       "3      Corporate            Corporate                  A                0   \n",
       "4      Online TA                TA/TO                  A                0   \n",
       "\n",
       "  deposit_type  days_in_waiting_list customer_type  \\\n",
       "0   No Deposit                     0     Transient   \n",
       "1   No Deposit                     0     Transient   \n",
       "2   No Deposit                     0     Transient   \n",
       "3   No Deposit                     0     Transient   \n",
       "4   No Deposit                     0     Transient   \n",
       "\n",
       "   required_car_parking_spaces  total_of_special_requests  \n",
       "0                            0                          0  \n",
       "1                            0                          0  \n",
       "2                            0                          0  \n",
       "3                            0                          0  \n",
       "4                            0                          1  "
      ]
     },
     "execution_count": 3,
     "metadata": {},
     "output_type": "execute_result"
    }
   ],
   "source": [
    "df_eda = df_eda[['hotel', 'is_canceled', 'adults', 'children', 'babies', 'meal', 'country', 'market_segment', 'distribution_channel', 'reserved_room_type', 'booking_changes', 'deposit_type', 'days_in_waiting_list', 'customer_type', 'required_car_parking_spaces', 'total_of_special_requests']]\n",
    "df_eda.head()"
   ]
  },
  {
   "cell_type": "code",
   "execution_count": 4,
   "id": "located-burke",
   "metadata": {},
   "outputs": [],
   "source": [
    "df_pre = df_eda.copy() \n",
    "# Disini saya lakukan copy untuk nanti bakal dipakai untuk data prediksi. \n",
    "#Alasannya biar tidak tercampur jika saya melakukan fillnan "
   ]
  },
  {
   "cell_type": "code",
   "execution_count": 5,
   "id": "verbal-folder",
   "metadata": {},
   "outputs": [
    {
     "name": "stdout",
     "output_type": "stream",
     "text": [
      "<class 'pandas.core.frame.DataFrame'>\n",
      "RangeIndex: 5000 entries, 0 to 4999\n",
      "Data columns (total 16 columns):\n",
      " #   Column                       Non-Null Count  Dtype  \n",
      "---  ------                       --------------  -----  \n",
      " 0   hotel                        5000 non-null   object \n",
      " 1   is_canceled                  5000 non-null   int64  \n",
      " 2   adults                       5000 non-null   int64  \n",
      " 3   children                     5000 non-null   float64\n",
      " 4   babies                       5000 non-null   int64  \n",
      " 5   meal                         5000 non-null   object \n",
      " 6   country                      4998 non-null   object \n",
      " 7   market_segment               5000 non-null   object \n",
      " 8   distribution_channel         5000 non-null   object \n",
      " 9   reserved_room_type           5000 non-null   object \n",
      " 10  booking_changes              5000 non-null   int64  \n",
      " 11  deposit_type                 5000 non-null   object \n",
      " 12  days_in_waiting_list         5000 non-null   int64  \n",
      " 13  customer_type                5000 non-null   object \n",
      " 14  required_car_parking_spaces  5000 non-null   int64  \n",
      " 15  total_of_special_requests    5000 non-null   int64  \n",
      "dtypes: float64(1), int64(7), object(8)\n",
      "memory usage: 625.1+ KB\n"
     ]
    }
   ],
   "source": [
    "df_eda.info()"
   ]
  },
  {
   "cell_type": "markdown",
   "id": "mounted-wiring",
   "metadata": {},
   "source": [
    "# TARGET EDA\n",
    "\n",
    "    Jalankan Exploratory Data Analysis untuk:\n",
    "        Memahami profil tamu/konsumen hotel (customer profiling).\n",
    "        Memahami kebiasaan tamu/konsumen hotel (customer behavior).\n",
    "    Berikan penjelasan tentang insight yang Anda temukan dari hasil Exploratory Data Analysis ke \n",
    "    manajemen hotel!"
   ]
  },
  {
   "cell_type": "code",
   "execution_count": 130,
   "id": "spatial-ocean",
   "metadata": {},
   "outputs": [
    {
     "data": {
      "text/plain": [
       "array(['Corporate', 'Groups', 'Complementary', 'Direct'], dtype=object)"
      ]
     },
     "execution_count": 130,
     "metadata": {},
     "output_type": "execute_result"
    }
   ],
   "source": [
    "df_eda[df_eda['distribution_channel'] == 'Corporate']['market_segment'].unique()"
   ]
  },
  {
   "cell_type": "code",
   "execution_count": 48,
   "id": "pending-regard",
   "metadata": {},
   "outputs": [
    {
     "name": "stdout",
     "output_type": "stream",
     "text": [
      "hotel ['Resort Hotel'] 1\n",
      "is_canceled [0 1] 2\n",
      "adults [ 2  1  3  4 40 26 50 27 55  0 20  6  5 10] 14\n",
      "children [ 0.  1.  2. 10.] 4\n",
      "babies [0 1 2] 3\n",
      "meal ['BB' 'FB' 'HB' 'SC' 'Undefined'] 5\n",
      "country ['PRT' 'GBR' 'USA' 'ESP' 'IRL' 'FRA' nan 'ROU' 'NOR' 'OMN' 'ARG' 'POL'\n",
      " 'DEU' 'BEL' 'CHE' 'CN' 'GRC' 'ITA' 'NLD' 'DNK' 'RUS' 'SWE' 'AUS' 'EST'\n",
      " 'CZE' 'BRA' 'FIN' 'MOZ' 'BWA' 'LUX' 'SVN' 'ALB' 'IND' 'CHN' 'MEX' 'MAR'\n",
      " 'UKR' 'SMR' 'LVA' 'PRI' 'SRB' 'CHL' 'AUT' 'BLR' 'LTU' 'TUR' 'ZAF' 'AGO'\n",
      " 'ISR' 'CYM' 'ZMB' 'CPV' 'ZWE' 'DZA' 'KOR' 'CRI' 'HUN'] 56\n",
      "market_segment ['Direct' 'Corporate' 'Online TA' 'Offline TA/TO' 'Complementary' 'Groups'] 6\n",
      "distribution_channel ['Direct' 'Corporate' 'TA/TO'] 3\n",
      "reserved_room_type ['C' 'A' 'D' 'E' 'G' 'F' 'H' 'L' 'P'] 9\n",
      "booking_changes [ 3  4  0  1  2  5 17  6] 8\n",
      "deposit_type ['No Deposit' 'Refundable' 'Non Refund'] 3\n",
      "days_in_waiting_list [  0  50  47  65 122] 5\n",
      "customer_type ['Transient' 'Contract' 'Transient-Party' 'Group'] 4\n",
      "required_car_parking_spaces [0 1 2] 3\n",
      "total_of_special_requests [0 1 3 2 4] 5\n"
     ]
    }
   ],
   "source": [
    "for i in df_eda.columns:\n",
    "    print(i,df_eda[i].unique(), df_eda[i].nunique())"
   ]
  },
  {
   "cell_type": "code",
   "execution_count": 58,
   "id": "incomplete-journey",
   "metadata": {},
   "outputs": [
    {
     "data": {
      "text/plain": [
       "PRT    3174\n",
       "ESP     550\n",
       "GBR     505\n",
       "IRL     172\n",
       "FRA     113\n",
       "DEU      89\n",
       "NLD      55\n",
       "CN       33\n",
       "BEL      29\n",
       "USA      28\n",
       "Name: country, dtype: int64"
      ]
     },
     "execution_count": 58,
     "metadata": {},
     "output_type": "execute_result"
    }
   ],
   "source": [
    "df_eda['country'].value_counts()[:10]"
   ]
  },
  {
   "cell_type": "code",
   "execution_count": 57,
   "id": "comparative-print",
   "metadata": {},
   "outputs": [
    {
     "data": {
      "text/plain": [
       "<AxesSubplot:xlabel='country', ylabel='count'>"
      ]
     },
     "execution_count": 57,
     "metadata": {},
     "output_type": "execute_result"
    },
    {
     "data": {
      "image/png": "[encoded data removed]",
      "text/plain": [
       "<Figure size 720x720 with 1 Axes>"
      ]
     },
     "metadata": {},
     "output_type": "display_data"
    }
   ],
   "source": [
    "plt.figure(figsize = (10, 10))\n",
    "sns.countplot(data = df_eda, x = 'country',  order = df_eda['country'].value_counts().index[:10])"
   ]
  },
  {
   "cell_type": "markdown",
   "id": "cognitive-photography",
   "metadata": {},
   "source": [
    "Dari graph diatas(yang telah diambil 10 besar terbanyak) menunjukann bahwa pendatang/customer yang melakukan booking paling banyak berasal dari negara PRT(Portugal) diikuti oleh ESP(Spanyol) dan GBR(United Kingdom)."
   ]
  },
  {
   "cell_type": "code",
   "execution_count": 78,
   "id": "young-london",
   "metadata": {},
   "outputs": [],
   "source": [
    "def families(cols):\n",
    "    if (cols['children'] >= 1) or (cols['babies'] >= 1):\n",
    "        return 'Yes'\n",
    "    else :\n",
    "        return 'No'\n",
    "\n",
    "df_eda['families'] = df_eda[['children','babies']].apply(families, axis = 1)"
   ]
  },
  {
   "cell_type": "code",
   "execution_count": 82,
   "id": "swiss-fourth",
   "metadata": {},
   "outputs": [
    {
     "data": {
      "text/plain": [
       "No     4560\n",
       "Yes     440\n",
       "Name: families, dtype: int64"
      ]
     },
     "execution_count": 82,
     "metadata": {},
     "output_type": "execute_result"
    }
   ],
   "source": [
    "df_eda['families'].value_counts()"
   ]
  },
  {
   "cell_type": "markdown",
   "id": "expanded-intermediate",
   "metadata": {},
   "source": [
    "Yang melakukan booking penginapan sekeluarga (Penilaian ini dilakukan dari jika mereka mempunyai anak atau bayi) ada sebanyak 440, perlu ditekankan bahwa value No' tidak mengartikan bahwa mereka tidak berkeluarga tetapi bisa dalam arti lain seperti mereka dalam kunjungan business trip, bersama pasangan, atau bersama teman."
   ]
  },
  {
   "cell_type": "code",
   "execution_count": 83,
   "id": "loving-probability",
   "metadata": {},
   "outputs": [
    {
     "data": {
      "text/plain": [
       "<AxesSubplot:xlabel='market_segment', ylabel='count'>"
      ]
     },
     "execution_count": 83,
     "metadata": {},
     "output_type": "execute_result"
    },
    {
     "data": {
      "image/png": "[encoded data removed]",
      "text/plain": [
       "<Figure size 720x720 with 1 Axes>"
      ]
     },
     "metadata": {},
     "output_type": "display_data"
    }
   ],
   "source": [
    "plt.figure(figsize = (10, 10))\n",
    "sns.countplot(data = df_eda, x = 'market_segment')"
   ]
  },
  {
   "cell_type": "markdown",
   "id": "textile-baltimore",
   "metadata": {},
   "source": [
    "Most booking where made by \n",
    "\n",
    "Online TA(Travel Agency) followed by \n",
    "\n",
    "groups (According to certain articles, groups means his segment of the guests stays at your hotel under contracted rates for a large group or for an event. The rates are flexible depending on the requirements. Usually like Leisure, Business, Conference / Banquet, Incentive, Wedding, Events, Crew\n",
    "\n",
    "and Offline Travel Agency/Tour Operator"
   ]
  },
  {
   "cell_type": "code",
   "execution_count": 84,
   "id": "directed-running",
   "metadata": {},
   "outputs": [
    {
     "data": {
      "text/plain": [
       "<AxesSubplot:xlabel='meal', ylabel='count'>"
      ]
     },
     "execution_count": 84,
     "metadata": {},
     "output_type": "execute_result"
    },
    {
     "data": {
      "image/png": "[encoded data removed]",
      "text/plain": [
       "<Figure size 720x720 with 1 Axes>"
      ]
     },
     "metadata": {},
     "output_type": "display_data"
    }
   ],
   "source": [
    "plt.figure(figsize = (10, 10))\n",
    "sns.countplot(data = df_eda, x = 'meal')"
   ]
  },
  {
   "cell_type": "markdown",
   "id": "sufficient-mapping",
   "metadata": {},
   "source": [
    "Most of the customers prefer Breakfast meal only, follow by Breakfast and Evening Meals, and last Full Meals."
   ]
  },
  {
   "cell_type": "code",
   "execution_count": 93,
   "id": "antique-congo",
   "metadata": {},
   "outputs": [
    {
     "data": {
      "text/plain": [
       "<AxesSubplot:xlabel='customer_type', ylabel='count'>"
      ]
     },
     "execution_count": 93,
     "metadata": {},
     "output_type": "execute_result"
    },
    {
     "data": {
      "image/png": "[encoded data removed]",
      "text/plain": [
       "<Figure size 720x720 with 1 Axes>"
      ]
     },
     "metadata": {},
     "output_type": "display_data"
    }
   ],
   "source": [
    "plt.figure(figsize = (10, 10))\n",
    "sns.countplot(data = df_eda, x = 'customer_type')"
   ]
  },
  {
   "cell_type": "markdown",
   "id": "silent-manchester",
   "metadata": {},
   "source": [
    "Most of the bookings were transient, according to xotels, transient means guests who are predominantly on-the-move and seek short (and often urgent!) hotel-stays which include Walk-in guests, Guests with a last-minute booking, and/or, Simply individual guests requiring a short stay at the hotel"
   ]
  },
  {
   "cell_type": "code",
   "execution_count": 99,
   "id": "spanish-patient",
   "metadata": {},
   "outputs": [],
   "source": [
    "def parking(cols):\n",
    "    if cols['required_car_parking_spaces'] > 0:\n",
    "        return 'With Vehicles'\n",
    "    else:\n",
    "        return 'No Vehicles'\n",
    "\n",
    "df_eda['Vehicles'] = df_eda[['required_car_parking_spaces']].apply(parking, axis = 1)"
   ]
  },
  {
   "cell_type": "code",
   "execution_count": 101,
   "id": "documentary-insurance",
   "metadata": {},
   "outputs": [
    {
     "data": {
      "text/plain": [
       "No Vehicles      4533\n",
       "With Vehicles     467\n",
       "Name: Vehicles, dtype: int64"
      ]
     },
     "execution_count": 101,
     "metadata": {},
     "output_type": "execute_result"
    }
   ],
   "source": [
    "df_eda['Vehicles'].value_counts()"
   ]
  },
  {
   "cell_type": "markdown",
   "id": "spare-interstate",
   "metadata": {},
   "source": [
    "Most of the customers doesn't bring their own vehicles but this column is a little bit ambiguous because does Tour Bus include as need parking spaces? or does need parking spaces is just for personal use (they bring their own transport), assuming that tour bus counts as need parking space, then most of the customers ride by taxi or temporary transport"
   ]
  },
  {
   "cell_type": "markdown",
   "id": "qualified-retention",
   "metadata": {},
   "source": [
    "But I have been wondering, by data, which kind of people who usually does booking cancel, and according to my experience, people often cancel their hotel bookings (with the features we have right now) is because the transaction they made is somewhat okay to them to do cancellation, so let's check it out"
   ]
  },
  {
   "cell_type": "code",
   "execution_count": 103,
   "id": "muslim-blast",
   "metadata": {},
   "outputs": [
    {
     "data": {
      "text/plain": [
       "<AxesSubplot:xlabel='deposit_type', ylabel='count'>"
      ]
     },
     "execution_count": 103,
     "metadata": {},
     "output_type": "execute_result"
    },
    {
     "data": {
      "image/png": "[encoded data removed]",
      "text/plain": [
       "<Figure size 720x720 with 1 Axes>"
      ]
     },
     "metadata": {},
     "output_type": "display_data"
    }
   ],
   "source": [
    "plt.figure(figsize = (10, 10))\n",
    "sns.countplot(data = df_eda, x = 'deposit_type', hue = 'is_canceled')"
   ]
  },
  {
   "cell_type": "markdown",
   "id": "taken-cancellation",
   "metadata": {},
   "source": [
    "According to the graph, most bookings were made with no deposit(which is reasonable because they won't have any risk or consequences if they cancel the booking), while the reason why there's less people who does refundable/non-refund type was because even if they got a refund, usually it is not 100% money back. As for why non-refund cancellation is higher than people who doesn't(which is weird) it might be because the room they book happens to be cheap and they happen to have another urgency which makes them can't stay, to proof this assumption of mine, I will make a graph for non-refund"
   ]
  },
  {
   "cell_type": "code",
   "execution_count": 105,
   "id": "sufficient-programming",
   "metadata": {},
   "outputs": [
    {
     "data": {
      "text/html": [
       "<div>\n",
       "<style scoped>\n",
       "    .dataframe tbody tr th:only-of-type {\n",
       "        vertical-align: middle;\n",
       "    }\n",
       "\n",
       "    .dataframe tbody tr th {\n",
       "        vertical-align: top;\n",
       "    }\n",
       "\n",
       "    .dataframe thead th {\n",
       "        text-align: right;\n",
       "    }\n",
       "</style>\n",
       "<table border=\"1\" class=\"dataframe\">\n",
       "  <thead>\n",
       "    <tr style=\"text-align: right;\">\n",
       "      <th></th>\n",
       "      <th>hotel</th>\n",
       "      <th>is_canceled</th>\n",
       "      <th>adults</th>\n",
       "      <th>children</th>\n",
       "      <th>babies</th>\n",
       "      <th>meal</th>\n",
       "      <th>country</th>\n",
       "      <th>market_segment</th>\n",
       "      <th>distribution_channel</th>\n",
       "      <th>reserved_room_type</th>\n",
       "      <th>booking_changes</th>\n",
       "      <th>deposit_type</th>\n",
       "      <th>days_in_waiting_list</th>\n",
       "      <th>customer_type</th>\n",
       "      <th>required_car_parking_spaces</th>\n",
       "      <th>total_of_special_requests</th>\n",
       "      <th>families</th>\n",
       "      <th>Vehicles</th>\n",
       "    </tr>\n",
       "  </thead>\n",
       "  <tbody>\n",
       "    <tr>\n",
       "      <th>2133</th>\n",
       "      <td>Resort Hotel</td>\n",
       "      <td>1</td>\n",
       "      <td>2</td>\n",
       "      <td>0.0</td>\n",
       "      <td>0</td>\n",
       "      <td>BB</td>\n",
       "      <td>PRT</td>\n",
       "      <td>Groups</td>\n",
       "      <td>TA/TO</td>\n",
       "      <td>A</td>\n",
       "      <td>0</td>\n",
       "      <td>Non Refund</td>\n",
       "      <td>0</td>\n",
       "      <td>Transient</td>\n",
       "      <td>0</td>\n",
       "      <td>0</td>\n",
       "      <td>No</td>\n",
       "      <td>No Vehicles</td>\n",
       "    </tr>\n",
       "    <tr>\n",
       "      <th>2134</th>\n",
       "      <td>Resort Hotel</td>\n",
       "      <td>1</td>\n",
       "      <td>2</td>\n",
       "      <td>0.0</td>\n",
       "      <td>0</td>\n",
       "      <td>BB</td>\n",
       "      <td>PRT</td>\n",
       "      <td>Groups</td>\n",
       "      <td>TA/TO</td>\n",
       "      <td>A</td>\n",
       "      <td>0</td>\n",
       "      <td>Non Refund</td>\n",
       "      <td>0</td>\n",
       "      <td>Transient</td>\n",
       "      <td>0</td>\n",
       "      <td>0</td>\n",
       "      <td>No</td>\n",
       "      <td>No Vehicles</td>\n",
       "    </tr>\n",
       "    <tr>\n",
       "      <th>2135</th>\n",
       "      <td>Resort Hotel</td>\n",
       "      <td>1</td>\n",
       "      <td>2</td>\n",
       "      <td>0.0</td>\n",
       "      <td>0</td>\n",
       "      <td>BB</td>\n",
       "      <td>PRT</td>\n",
       "      <td>Groups</td>\n",
       "      <td>TA/TO</td>\n",
       "      <td>A</td>\n",
       "      <td>0</td>\n",
       "      <td>Non Refund</td>\n",
       "      <td>0</td>\n",
       "      <td>Transient</td>\n",
       "      <td>0</td>\n",
       "      <td>0</td>\n",
       "      <td>No</td>\n",
       "      <td>No Vehicles</td>\n",
       "    </tr>\n",
       "    <tr>\n",
       "      <th>2136</th>\n",
       "      <td>Resort Hotel</td>\n",
       "      <td>1</td>\n",
       "      <td>2</td>\n",
       "      <td>0.0</td>\n",
       "      <td>0</td>\n",
       "      <td>BB</td>\n",
       "      <td>PRT</td>\n",
       "      <td>Groups</td>\n",
       "      <td>TA/TO</td>\n",
       "      <td>A</td>\n",
       "      <td>0</td>\n",
       "      <td>Non Refund</td>\n",
       "      <td>0</td>\n",
       "      <td>Transient</td>\n",
       "      <td>0</td>\n",
       "      <td>0</td>\n",
       "      <td>No</td>\n",
       "      <td>No Vehicles</td>\n",
       "    </tr>\n",
       "    <tr>\n",
       "      <th>2141</th>\n",
       "      <td>Resort Hotel</td>\n",
       "      <td>1</td>\n",
       "      <td>2</td>\n",
       "      <td>0.0</td>\n",
       "      <td>0</td>\n",
       "      <td>BB</td>\n",
       "      <td>PRT</td>\n",
       "      <td>Groups</td>\n",
       "      <td>TA/TO</td>\n",
       "      <td>A</td>\n",
       "      <td>0</td>\n",
       "      <td>Non Refund</td>\n",
       "      <td>0</td>\n",
       "      <td>Transient</td>\n",
       "      <td>0</td>\n",
       "      <td>0</td>\n",
       "      <td>No</td>\n",
       "      <td>No Vehicles</td>\n",
       "    </tr>\n",
       "    <tr>\n",
       "      <th>...</th>\n",
       "      <td>...</td>\n",
       "      <td>...</td>\n",
       "      <td>...</td>\n",
       "      <td>...</td>\n",
       "      <td>...</td>\n",
       "      <td>...</td>\n",
       "      <td>...</td>\n",
       "      <td>...</td>\n",
       "      <td>...</td>\n",
       "      <td>...</td>\n",
       "      <td>...</td>\n",
       "      <td>...</td>\n",
       "      <td>...</td>\n",
       "      <td>...</td>\n",
       "      <td>...</td>\n",
       "      <td>...</td>\n",
       "      <td>...</td>\n",
       "      <td>...</td>\n",
       "    </tr>\n",
       "    <tr>\n",
       "      <th>4995</th>\n",
       "      <td>Resort Hotel</td>\n",
       "      <td>1</td>\n",
       "      <td>2</td>\n",
       "      <td>0.0</td>\n",
       "      <td>0</td>\n",
       "      <td>HB</td>\n",
       "      <td>PRT</td>\n",
       "      <td>Groups</td>\n",
       "      <td>Direct</td>\n",
       "      <td>D</td>\n",
       "      <td>0</td>\n",
       "      <td>Non Refund</td>\n",
       "      <td>0</td>\n",
       "      <td>Transient</td>\n",
       "      <td>0</td>\n",
       "      <td>0</td>\n",
       "      <td>No</td>\n",
       "      <td>No Vehicles</td>\n",
       "    </tr>\n",
       "    <tr>\n",
       "      <th>4996</th>\n",
       "      <td>Resort Hotel</td>\n",
       "      <td>1</td>\n",
       "      <td>2</td>\n",
       "      <td>0.0</td>\n",
       "      <td>0</td>\n",
       "      <td>HB</td>\n",
       "      <td>PRT</td>\n",
       "      <td>Groups</td>\n",
       "      <td>Direct</td>\n",
       "      <td>D</td>\n",
       "      <td>0</td>\n",
       "      <td>Non Refund</td>\n",
       "      <td>0</td>\n",
       "      <td>Transient</td>\n",
       "      <td>0</td>\n",
       "      <td>0</td>\n",
       "      <td>No</td>\n",
       "      <td>No Vehicles</td>\n",
       "    </tr>\n",
       "    <tr>\n",
       "      <th>4997</th>\n",
       "      <td>Resort Hotel</td>\n",
       "      <td>1</td>\n",
       "      <td>2</td>\n",
       "      <td>0.0</td>\n",
       "      <td>0</td>\n",
       "      <td>HB</td>\n",
       "      <td>PRT</td>\n",
       "      <td>Groups</td>\n",
       "      <td>Direct</td>\n",
       "      <td>A</td>\n",
       "      <td>0</td>\n",
       "      <td>Non Refund</td>\n",
       "      <td>0</td>\n",
       "      <td>Transient</td>\n",
       "      <td>0</td>\n",
       "      <td>0</td>\n",
       "      <td>No</td>\n",
       "      <td>No Vehicles</td>\n",
       "    </tr>\n",
       "    <tr>\n",
       "      <th>4998</th>\n",
       "      <td>Resort Hotel</td>\n",
       "      <td>1</td>\n",
       "      <td>2</td>\n",
       "      <td>0.0</td>\n",
       "      <td>0</td>\n",
       "      <td>HB</td>\n",
       "      <td>PRT</td>\n",
       "      <td>Groups</td>\n",
       "      <td>Direct</td>\n",
       "      <td>A</td>\n",
       "      <td>0</td>\n",
       "      <td>Non Refund</td>\n",
       "      <td>0</td>\n",
       "      <td>Transient</td>\n",
       "      <td>0</td>\n",
       "      <td>0</td>\n",
       "      <td>No</td>\n",
       "      <td>No Vehicles</td>\n",
       "    </tr>\n",
       "    <tr>\n",
       "      <th>4999</th>\n",
       "      <td>Resort Hotel</td>\n",
       "      <td>1</td>\n",
       "      <td>2</td>\n",
       "      <td>0.0</td>\n",
       "      <td>0</td>\n",
       "      <td>HB</td>\n",
       "      <td>PRT</td>\n",
       "      <td>Groups</td>\n",
       "      <td>Direct</td>\n",
       "      <td>D</td>\n",
       "      <td>0</td>\n",
       "      <td>Non Refund</td>\n",
       "      <td>0</td>\n",
       "      <td>Transient</td>\n",
       "      <td>0</td>\n",
       "      <td>0</td>\n",
       "      <td>No</td>\n",
       "      <td>No Vehicles</td>\n",
       "    </tr>\n",
       "  </tbody>\n",
       "</table>\n",
       "<p>477 rows × 18 columns</p>\n",
       "</div>"
      ],
      "text/plain": [
       "             hotel  is_canceled  adults  children  babies meal country  \\\n",
       "2133  Resort Hotel            1       2       0.0       0   BB     PRT   \n",
       "2134  Resort Hotel            1       2       0.0       0   BB     PRT   \n",
       "2135  Resort Hotel            1       2       0.0       0   BB     PRT   \n",
       "2136  Resort Hotel            1       2       0.0       0   BB     PRT   \n",
       "2141  Resort Hotel            1       2       0.0       0   BB     PRT   \n",
       "...            ...          ...     ...       ...     ...  ...     ...   \n",
       "4995  Resort Hotel            1       2       0.0       0   HB     PRT   \n",
       "4996  Resort Hotel            1       2       0.0       0   HB     PRT   \n",
       "4997  Resort Hotel            1       2       0.0       0   HB     PRT   \n",
       "4998  Resort Hotel            1       2       0.0       0   HB     PRT   \n",
       "4999  Resort Hotel            1       2       0.0       0   HB     PRT   \n",
       "\n",
       "     market_segment distribution_channel reserved_room_type  booking_changes  \\\n",
       "2133         Groups                TA/TO                  A                0   \n",
       "2134         Groups                TA/TO                  A                0   \n",
       "2135         Groups                TA/TO                  A                0   \n",
       "2136         Groups                TA/TO                  A                0   \n",
       "2141         Groups                TA/TO                  A                0   \n",
       "...             ...                  ...                ...              ...   \n",
       "4995         Groups               Direct                  D                0   \n",
       "4996         Groups               Direct                  D                0   \n",
       "4997         Groups               Direct                  A                0   \n",
       "4998         Groups               Direct                  A                0   \n",
       "4999         Groups               Direct                  D                0   \n",
       "\n",
       "     deposit_type  days_in_waiting_list customer_type  \\\n",
       "2133   Non Refund                     0     Transient   \n",
       "2134   Non Refund                     0     Transient   \n",
       "2135   Non Refund                     0     Transient   \n",
       "2136   Non Refund                     0     Transient   \n",
       "2141   Non Refund                     0     Transient   \n",
       "...           ...                   ...           ...   \n",
       "4995   Non Refund                     0     Transient   \n",
       "4996   Non Refund                     0     Transient   \n",
       "4997   Non Refund                     0     Transient   \n",
       "4998   Non Refund                     0     Transient   \n",
       "4999   Non Refund                     0     Transient   \n",
       "\n",
       "      required_car_parking_spaces  total_of_special_requests families  \\\n",
       "2133                            0                          0       No   \n",
       "2134                            0                          0       No   \n",
       "2135                            0                          0       No   \n",
       "2136                            0                          0       No   \n",
       "2141                            0                          0       No   \n",
       "...                           ...                        ...      ...   \n",
       "4995                            0                          0       No   \n",
       "4996                            0                          0       No   \n",
       "4997                            0                          0       No   \n",
       "4998                            0                          0       No   \n",
       "4999                            0                          0       No   \n",
       "\n",
       "         Vehicles  \n",
       "2133  No Vehicles  \n",
       "2134  No Vehicles  \n",
       "2135  No Vehicles  \n",
       "2136  No Vehicles  \n",
       "2141  No Vehicles  \n",
       "...           ...  \n",
       "4995  No Vehicles  \n",
       "4996  No Vehicles  \n",
       "4997  No Vehicles  \n",
       "4998  No Vehicles  \n",
       "4999  No Vehicles  \n",
       "\n",
       "[477 rows x 18 columns]"
      ]
     },
     "execution_count": 105,
     "metadata": {},
     "output_type": "execute_result"
    }
   ],
   "source": [
    "df_refund = df_eda[df_eda['deposit_type'] == 'Non Refund']\n",
    "df_refund"
   ]
  },
  {
   "cell_type": "code",
   "execution_count": 106,
   "id": "ceramic-carnival",
   "metadata": {},
   "outputs": [
    {
     "data": {
      "text/plain": [
       "<AxesSubplot:xlabel='reserved_room_type', ylabel='count'>"
      ]
     },
     "execution_count": 106,
     "metadata": {},
     "output_type": "execute_result"
    },
    {
     "data": {
      "image/png": "[encoded data removed]",
      "text/plain": [
       "<Figure size 720x720 with 1 Axes>"
      ]
     },
     "metadata": {},
     "output_type": "display_data"
    }
   ],
   "source": [
    "plt.figure(figsize = (10, 10))\n",
    "sns.countplot(data = df_refund, x = 'reserved_room_type', hue = 'is_canceled')"
   ]
  },
  {
   "cell_type": "markdown",
   "id": "coupled-frederick",
   "metadata": {},
   "source": [
    "Assuming that the room A is the cheapest, then my assumption is correct"
   ]
  },
  {
   "cell_type": "code",
   "execution_count": 115,
   "id": "radical-lambda",
   "metadata": {},
   "outputs": [
    {
     "data": {
      "text/plain": [
       "<AxesSubplot:xlabel='total_of_special_requests', ylabel='count'>"
      ]
     },
     "execution_count": 115,
     "metadata": {},
     "output_type": "execute_result"
    },
    {
     "data": {
      "image/png": "[encoded data removed]",
      "text/plain": [
       "<Figure size 720x720 with 1 Axes>"
      ]
     },
     "metadata": {},
     "output_type": "display_data"
    }
   ],
   "source": [
    "plt.figure(figsize = (10, 10))\n",
    "sns.countplot(data = df_eda, x = 'total_of_special_requests')"
   ]
  },
  {
   "cell_type": "markdown",
   "id": "alike-invalid",
   "metadata": {},
   "source": [
    "Most of the customers doesn't ask for any special request"
   ]
  },
  {
   "cell_type": "code",
   "execution_count": 131,
   "id": "rolled-trash",
   "metadata": {},
   "outputs": [
    {
     "data": {
      "text/plain": [
       "275"
      ]
     },
     "execution_count": 131,
     "metadata": {},
     "output_type": "execute_result"
    }
   ],
   "source": [
    "len(df_eda[(df_eda['distribution_channel'] == 'Corporate')] )"
   ]
  },
  {
   "cell_type": "markdown",
   "id": "fatty-variety",
   "metadata": {},
   "source": [
    "There's around 275 bookings who's on a behalf of business trips (275 doesn't mean they are 275 people, in this 275 bookings, there are people with that goes or or in a group"
   ]
  },
  {
   "cell_type": "markdown",
   "id": "computational-gallery",
   "metadata": {},
   "source": [
    "# Overall Insights based on what I did\n",
    "\n",
    "Most of customer that made the bookin came from Portugal, followed by Spanyol and United Kingdom\n",
    "\n",
    "Most of the bookings are from Online Travel Agency\n",
    "\n",
    "Most of the customer who made the booking prefer breakfast meals only\n",
    "\n",
    "Most of the books are transient(walk-in,  a short stay or in-short time booking)\n",
    "\n",
    "Most of the customers come by temporary transport like taxi or train\n",
    "\n",
    "Most of the bookings where made with no deposit needed, and most people canceled out the booking when it comes non-refund deposit type which is because most of the room they booked are cheap (Room type A)\n",
    "\n",
    "Most of the customer doesn't ask for any special request\n",
    "\n",
    "There's 275 bookings that's for business trips "
   ]
  },
  {
   "cell_type": "code",
   "execution_count": 6,
   "id": "ranging-grocery",
   "metadata": {},
   "outputs": [],
   "source": [
    "################################################################################################################################"
   ]
  },
  {
   "cell_type": "code",
   "execution_count": 7,
   "id": "dominican-genome",
   "metadata": {},
   "outputs": [],
   "source": [
    "#models\n",
    "from sklearn.linear_model import LogisticRegression\n",
    "from sklearn.tree import DecisionTreeClassifier, plot_tree\n",
    "from sklearn.neighbors import KNeighborsClassifier\n",
    "#feature engineering\n",
    "from sklearn.impute import SimpleImputer\n",
    "from sklearn.pipeline import Pipeline\n",
    "from imblearn.pipeline import Pipeline\n",
    "from category_encoders import BinaryEncoder\n",
    "from sklearn.preprocessing import OneHotEncoder, PolynomialFeatures, RobustScaler\n",
    "from sklearn.compose import ColumnTransformer\n",
    "from imblearn.over_sampling import SMOTE, RandomOverSampler\n",
    "from imblearn.under_sampling import RandomUnderSampler, NearMiss\n",
    "#evaluation\n",
    "from sklearn.model_selection import train_test_split, cross_val_score, GridSearchCV, StratifiedKFold\n",
    "from sklearn.metrics import f1_score, recall_score, precision_score, accuracy_score, classification_report, plot_roc_curve, plot_precision_recall_curve"
   ]
  },
  {
   "cell_type": "code",
   "execution_count": 8,
   "id": "extreme-foster",
   "metadata": {},
   "outputs": [
    {
     "name": "stdout",
     "output_type": "stream",
     "text": [
      "<class 'pandas.core.frame.DataFrame'>\n",
      "RangeIndex: 5000 entries, 0 to 4999\n",
      "Data columns (total 16 columns):\n",
      " #   Column                       Non-Null Count  Dtype  \n",
      "---  ------                       --------------  -----  \n",
      " 0   hotel                        5000 non-null   object \n",
      " 1   is_canceled                  5000 non-null   int64  \n",
      " 2   adults                       5000 non-null   int64  \n",
      " 3   children                     5000 non-null   float64\n",
      " 4   babies                       5000 non-null   int64  \n",
      " 5   meal                         5000 non-null   object \n",
      " 6   country                      4998 non-null   object \n",
      " 7   market_segment               5000 non-null   object \n",
      " 8   distribution_channel         5000 non-null   object \n",
      " 9   reserved_room_type           5000 non-null   object \n",
      " 10  booking_changes              5000 non-null   int64  \n",
      " 11  deposit_type                 5000 non-null   object \n",
      " 12  days_in_waiting_list         5000 non-null   int64  \n",
      " 13  customer_type                5000 non-null   object \n",
      " 14  required_car_parking_spaces  5000 non-null   int64  \n",
      " 15  total_of_special_requests    5000 non-null   int64  \n",
      "dtypes: float64(1), int64(7), object(8)\n",
      "memory usage: 625.1+ KB\n"
     ]
    }
   ],
   "source": [
    "df_pre.info()"
   ]
  },
  {
   "cell_type": "markdown",
   "id": "spanish-belfast",
   "metadata": {},
   "source": [
    "\n",
    "    Target : is_canceled\n",
    "    Feature Numerik : adults, babies, children, day_in_waiting_list, required_car_parking_space, \n",
    "    total_special, booking_changes\n",
    "    Feature Categorik : hotel, meal, country(contained NaN), market_segment, distribution_channel, \n",
    "    reserved_room, deposit_type, customer_type"
   ]
  },
  {
   "cell_type": "code",
   "execution_count": 9,
   "id": "fuzzy-admission",
   "metadata": {},
   "outputs": [
    {
     "name": "stdout",
     "output_type": "stream",
     "text": [
      "hotel ['Resort Hotel'] 1\n",
      "is_canceled [0 1] 2\n",
      "adults [ 2  1  3  4 40 26 50 27 55  0 20  6  5 10] 14\n",
      "children [ 0.  1.  2. 10.] 4\n",
      "babies [0 1 2] 3\n",
      "meal ['BB' 'FB' 'HB' 'SC' 'Undefined'] 5\n",
      "country ['PRT' 'GBR' 'USA' 'ESP' 'IRL' 'FRA' nan 'ROU' 'NOR' 'OMN' 'ARG' 'POL'\n",
      " 'DEU' 'BEL' 'CHE' 'CN' 'GRC' 'ITA' 'NLD' 'DNK' 'RUS' 'SWE' 'AUS' 'EST'\n",
      " 'CZE' 'BRA' 'FIN' 'MOZ' 'BWA' 'LUX' 'SVN' 'ALB' 'IND' 'CHN' 'MEX' 'MAR'\n",
      " 'UKR' 'SMR' 'LVA' 'PRI' 'SRB' 'CHL' 'AUT' 'BLR' 'LTU' 'TUR' 'ZAF' 'AGO'\n",
      " 'ISR' 'CYM' 'ZMB' 'CPV' 'ZWE' 'DZA' 'KOR' 'CRI' 'HUN'] 56\n",
      "market_segment ['Direct' 'Corporate' 'Online TA' 'Offline TA/TO' 'Complementary' 'Groups'] 6\n",
      "distribution_channel ['Direct' 'Corporate' 'TA/TO'] 3\n",
      "reserved_room_type ['C' 'A' 'D' 'E' 'G' 'F' 'H' 'L' 'P'] 9\n",
      "booking_changes [ 3  4  0  1  2  5 17  6] 8\n",
      "deposit_type ['No Deposit' 'Refundable' 'Non Refund'] 3\n",
      "days_in_waiting_list [  0  50  47  65 122] 5\n",
      "customer_type ['Transient' 'Contract' 'Transient-Party' 'Group'] 4\n",
      "required_car_parking_spaces [0 1 2] 3\n",
      "total_of_special_requests [0 1 3 2 4] 5\n"
     ]
    }
   ],
   "source": [
    "for i in df_pre.columns:\n",
    "    print(i,df_pre[i].unique(), df_pre[i].nunique())"
   ]
  },
  {
   "cell_type": "markdown",
   "id": "hearing-baptist",
   "metadata": {},
   "source": [
    "For the numeric features, I will let it be first, but as for the categorical features, if the variables are more than 5, then I will use binary encoding, else I'll do one hot and also I will drop the hotel feature because there's only 1 variable, and as for country, because it contains 2 NaN values, I will just fill it with mode/most_frequent\n",
    "\n",
    "    Feature less than 6 = ['meal','distribution_channel','deposit_type','customer_type']"
   ]
  },
  {
   "cell_type": "code",
   "execution_count": 145,
   "id": "decimal-thirty",
   "metadata": {},
   "outputs": [],
   "source": [
    "binary_pipe = Pipeline([\n",
    "    ('Missing Nan', SimpleImputer(strategy = 'most_frequent')),\n",
    "    ('Binary Encode', BinaryEncoder())\n",
    "])\n",
    "\n",
    "transformer = ColumnTransformer([\n",
    "    ('One Hot', OneHotEncoder(drop='first'), ['meal','distribution_channel','deposit_type','customer_type']),\n",
    "    ('Binary', binary_pipe, ['country','market_segment','reserved_room_type'])\n",
    "], remainder = 'passthrough')"
   ]
  },
  {
   "cell_type": "markdown",
   "id": "magnetic-receipt",
   "metadata": {},
   "source": [
    "Soal nomor 1 : Pilihlah setidaknya 3 model machine learning yang Anda pahami untuk mendapatkan benchmark model ML untuk memprediksi apakah user akan cancel booking atau tidak! Jelaskan secara singkat cara kerja model ML yang Anda gunakan!\n",
    "\n",
    "    Model yang akan saya gunakan adalah LogisticRegression, KNN, dan DecisionTree.\n",
    "        LogisticRegression : Based on how significant a certain feature towards its target,\n",
    "        usually by its P-val and how impactful it is base on its coef\n",
    "        KNN : Based on its Nearest Neighbours\n",
    "        Decision Tree : Based on branches, whereas if it less than a certain value, \n",
    "        then it goes to back section, else good section"
   ]
  },
  {
   "cell_type": "code",
   "execution_count": 11,
   "id": "historical-quality",
   "metadata": {},
   "outputs": [],
   "source": [
    "logreg = LogisticRegression(solver = 'liblinear')\n",
    "tree = DecisionTreeClassifier(random_state = 2021)\n",
    "knn = KNeighborsClassifier()"
   ]
  },
  {
   "cell_type": "code",
   "execution_count": 12,
   "id": "wired-arnold",
   "metadata": {},
   "outputs": [],
   "source": [
    "x = df_pre.drop(['hotel','is_canceled'], axis = 1)\n",
    "y = df_pre['is_canceled']"
   ]
  },
  {
   "cell_type": "code",
   "execution_count": 13,
   "id": "committed-incident",
   "metadata": {},
   "outputs": [],
   "source": [
    "x_train, x_test, y_train, y_test = train_test_split(x, y, test_size = 0.3, stratify = y, random_state = 2021)"
   ]
  },
  {
   "cell_type": "markdown",
   "id": "hawaiian-graduate",
   "metadata": {},
   "source": [
    "Soal no 2 : Ada 2 jenis kesalahan yang mungkin terjadi dalam model ML di studi kasus ini, yaitu:\n",
    "\n",
    "    Model memprediksi user akan cancel booking (membatalkan pesanan), padahal sebenarnya/realisasinya \n",
    "    user tidak membatalkan pesanan.\n",
    "    Model memprediksi user tidak membatalkan pesanan, padahal sebenarnya/realisasinya user cancel \n",
    "    booking (membatalkan pesanan).\n",
    "    \n",
    "a. Pilih jenis kesalahan yang paling berpengaruh pada kerugian finansial perusahaan dan jelaskan alasan pilihan Anda!\n",
    "\n",
    "Based on my domain knowledge about businesses, They rather choose the first than the second, which means the 2nd choice is the most impactful towards the the business finance, Why you might ask? Unlike the 2nd choice, yang pertama itu ketika mesin predict cancel tapi actual-nya tidak, the worst case would be the room will be given to someone else who ordered it or happen to walk-in(which is hotel business, people who does walk-in is prioritize). And so what happen to the person who booked the room priors before?? What happen when we came to the hotel and realize the room is being used? Well according to my Experience, hotel will always find a way to provide you a place to stay, they might have a spare room for you or if they happen to be fully booked out, they can send you to another hotel they happen to partnered with (which btw they receive commision by doing so). And also if machine predicts cancel but the person really do came, it doesn't do any harm at all(financial wise). BUT as for the 2nd choice, when the machine predicts not canceled but in actual the person do canceled, it means there's a room that's being on hold(but won't be used because it is canceled) and by doing so, they just lose an opportunity to gain money. The 1st choice might have an impact on the customer who's staying but and again, hotel will always find a way to provide them a place to stay, but as for the 2nd choice, it affect the hotel as in the room could be given to someone else(profit gain) but instead holding it unknowingly that the book is canceled(no profit gain)\n",
    "\n",
    "b. Pilih evaluation metric yang bisa menekan jenis kesalahan yang Anda pilih! Berikan alasan!\n",
    "\n",
    "    TP : predict cancel, actual cancel : no room is wasted\n",
    "    TN : predict not canceled, actual not canceled : room used\n",
    "    FP : predict cancel, actual not cancel : room booked by the person is given to someone else\n",
    "    FN : predict not canceled, actual canceled : room is being hold for no reason which lead to \n",
    "    no profit gain during that day\n",
    "\n",
    "I want to prevent FN, so the evaluation metrics I'm going to use is RECALL"
   ]
  },
  {
   "cell_type": "code",
   "execution_count": 14,
   "id": "extensive-miller",
   "metadata": {},
   "outputs": [],
   "source": [
    "def model_evaluation_cv(model):\n",
    "    skfold = StratifiedKFold(n_splits = 5)\n",
    "    estimator = Pipeline([\n",
    "    ('preprocess', transformer),\n",
    "    ('model', model)\n",
    "])\n",
    "    model_cv = cross_val_score(estimator, x_train, y_train, scoring = 'recall', cv = skfold)\n",
    "    return model_cv"
   ]
  },
  {
   "cell_type": "code",
   "execution_count": 15,
   "id": "usual-mediterranean",
   "metadata": {},
   "outputs": [],
   "source": [
    "def print_result(model_cv):\n",
    "    print('score : ', model_cv)\n",
    "    print('mean score : ', model_cv.mean())\n",
    "    print('std score : ', model_cv.std())"
   ]
  },
  {
   "cell_type": "code",
   "execution_count": 16,
   "id": "urban-snake",
   "metadata": {},
   "outputs": [
    {
     "name": "stdout",
     "output_type": "stream",
     "text": [
      "score :  [0.95652174 0.94720497 0.92546584 0.94409938 0.92523364]\n",
      "mean score :  0.9397051140651304\n",
      "std score :  0.012413997377058911\n"
     ]
    }
   ],
   "source": [
    "model_cv = model_evaluation_cv(logreg)\n",
    "print_result(model_cv)"
   ]
  },
  {
   "cell_type": "code",
   "execution_count": 17,
   "id": "passive-banking",
   "metadata": {},
   "outputs": [
    {
     "name": "stdout",
     "output_type": "stream",
     "text": [
      "score :  [0.87267081 0.88819876 0.87267081 0.88198758 0.87850467]\n",
      "mean score :  0.8788065246415512\n",
      "std score :  0.005894375395314388\n"
     ]
    }
   ],
   "source": [
    "model_cv = model_evaluation_cv(tree)\n",
    "print_result(model_cv)"
   ]
  },
  {
   "cell_type": "code",
   "execution_count": 18,
   "id": "covered-cartoon",
   "metadata": {},
   "outputs": [
    {
     "name": "stdout",
     "output_type": "stream",
     "text": [
      "score :  [0.90993789 0.91925466 0.92546584 0.90062112 0.90031153]\n",
      "mean score :  0.9111182059170682\n",
      "std score :  0.010004226553027872\n"
     ]
    }
   ],
   "source": [
    "model_cv = model_evaluation_cv(knn)\n",
    "print_result(model_cv)"
   ]
  },
  {
   "cell_type": "markdown",
   "id": "horizontal-identifier",
   "metadata": {},
   "source": [
    "Secara Evaluasi Cross Validasi : Logreg model terbaik, diikuti dengan knn, dan terakhir tree. Sekarang coba untuk lihat hasil predict"
   ]
  },
  {
   "cell_type": "code",
   "execution_count": 19,
   "id": "chicken-integrity",
   "metadata": {},
   "outputs": [
    {
     "name": "stdout",
     "output_type": "stream",
     "text": [
      "0.9361393323657474\n"
     ]
    }
   ],
   "source": [
    "estimator = Pipeline([\n",
    "    ('transformer', transformer),\n",
    "    ('model', logreg)])\n",
    "estimator.fit(x_train, y_train)\n",
    "y_pred = estimator.predict(x_test)\n",
    "print(recall_score(y_test, y_pred))"
   ]
  },
  {
   "cell_type": "markdown",
   "id": "small-austin",
   "metadata": {},
   "source": [
    "Datanya balance dan hasilnya tetap bagus, jadi tidak diperlakukan handling imbalance data / resampling\n",
    "\n",
    "Noted : tau balancenya ketika saya melakukan classification report"
   ]
  },
  {
   "cell_type": "markdown",
   "id": "architectural-ceramic",
   "metadata": {},
   "source": [
    "Karena model yang paling bagus sejauh ini adalah Logreg, maka akan dicoba untuk improvement model seperti Polynomial dan Scaling"
   ]
  },
  {
   "cell_type": "markdown",
   "id": "downtown-slovakia",
   "metadata": {},
   "source": [
    "# POLYNOMIAL"
   ]
  },
  {
   "cell_type": "code",
   "execution_count": 20,
   "id": "conscious-tucson",
   "metadata": {},
   "outputs": [],
   "source": [
    "binary_pipe = Pipeline([\n",
    "    ('Missing Nan', SimpleImputer(strategy = 'most_frequent')),\n",
    "    ('Binary Encode', BinaryEncoder())\n",
    "])\n",
    "\n",
    "transformer = ColumnTransformer([\n",
    "    ('One Hot', OneHotEncoder(drop='first'), ['meal','distribution_channel','deposit_type','customer_type']),\n",
    "    ('Binary', binary_pipe, ['country','market_segment','reserved_room_type']),\n",
    "    ('Poly', PolynomialFeatures(degree = 4, interaction_only = False, include_bias = False), ['adults', 'children', 'babies', 'booking_changes',\n",
    "       'days_in_waiting_list', 'required_car_parking_spaces', 'total_of_special_requests'])\n",
    "], remainder = 'passthrough')"
   ]
  },
  {
   "cell_type": "code",
   "execution_count": 21,
   "id": "grave-singer",
   "metadata": {},
   "outputs": [],
   "source": [
    "def model_evaluation_cv(model):\n",
    "    skfold = StratifiedKFold(n_splits = 5)\n",
    "    estimator = Pipeline([\n",
    "    ('preprocess', transformer),\n",
    "    ('model', model)\n",
    "])\n",
    "    model_cv = cross_val_score(estimator, x_train, y_train, scoring = 'recall', cv = skfold)\n",
    "    return model_cv"
   ]
  },
  {
   "cell_type": "code",
   "execution_count": 22,
   "id": "dangerous-jesus",
   "metadata": {},
   "outputs": [
    {
     "name": "stdout",
     "output_type": "stream",
     "text": [
      "score :  [0.99378882 0.98447205 0.99689441 0.99068323 0.99688474]\n",
      "mean score :  0.9925446489038524\n",
      "std score :  0.004646212880315894\n"
     ]
    }
   ],
   "source": [
    "model_cv = model_evaluation_cv(logreg)\n",
    "print_result(model_cv)"
   ]
  },
  {
   "cell_type": "code",
   "execution_count": 23,
   "id": "mechanical-washington",
   "metadata": {},
   "outputs": [
    {
     "name": "stdout",
     "output_type": "stream",
     "text": [
      "0.9912917271407837\n"
     ]
    }
   ],
   "source": [
    "estimator = Pipeline([\n",
    "    ('transformer', transformer),\n",
    "    ('model', logreg)])\n",
    "estimator.fit(x_train, y_train)\n",
    "y_pred = estimator.predict(x_test)\n",
    "print(recall_score(y_test, y_pred))"
   ]
  },
  {
   "cell_type": "markdown",
   "id": "serial-edward",
   "metadata": {},
   "source": [
    "Dengan polynomial degree 4, hasilnya meningkat dratis dari 0.936 menjadi 0.991, jika degreenya 3, maka terjadi penurunan drastis atau underfitting, yaitu sebesar 0.05(0.49 ketika crossvalidasi)"
   ]
  },
  {
   "cell_type": "markdown",
   "id": "favorite-stuart",
   "metadata": {},
   "source": [
    "Sekarang dicoba jika dilakukan versi scaling, terlebih dahulu saya check jika ada nilai outliers"
   ]
  },
  {
   "cell_type": "markdown",
   "id": "seeing-figure",
   "metadata": {},
   "source": [
    "# SCALING"
   ]
  },
  {
   "cell_type": "code",
   "execution_count": 24,
   "id": "honest-omaha",
   "metadata": {},
   "outputs": [
    {
     "data": {
      "text/html": [
       "<div>\n",
       "<style scoped>\n",
       "    .dataframe tbody tr th:only-of-type {\n",
       "        vertical-align: middle;\n",
       "    }\n",
       "\n",
       "    .dataframe tbody tr th {\n",
       "        vertical-align: top;\n",
       "    }\n",
       "\n",
       "    .dataframe thead th {\n",
       "        text-align: right;\n",
       "    }\n",
       "</style>\n",
       "<table border=\"1\" class=\"dataframe\">\n",
       "  <thead>\n",
       "    <tr style=\"text-align: right;\">\n",
       "      <th></th>\n",
       "      <th>is_canceled</th>\n",
       "      <th>adults</th>\n",
       "      <th>children</th>\n",
       "      <th>babies</th>\n",
       "      <th>booking_changes</th>\n",
       "      <th>days_in_waiting_list</th>\n",
       "      <th>required_car_parking_spaces</th>\n",
       "      <th>total_of_special_requests</th>\n",
       "    </tr>\n",
       "  </thead>\n",
       "  <tbody>\n",
       "    <tr>\n",
       "      <th>count</th>\n",
       "      <td>5000.000000</td>\n",
       "      <td>5000.000000</td>\n",
       "      <td>5000.000000</td>\n",
       "      <td>5000.000000</td>\n",
       "      <td>5000.000000</td>\n",
       "      <td>5000.000000</td>\n",
       "      <td>5000.000000</td>\n",
       "      <td>5000.000000</td>\n",
       "    </tr>\n",
       "    <tr>\n",
       "      <th>mean</th>\n",
       "      <td>0.459600</td>\n",
       "      <td>1.969800</td>\n",
       "      <td>0.115600</td>\n",
       "      <td>0.014800</td>\n",
       "      <td>0.207200</td>\n",
       "      <td>1.772000</td>\n",
       "      <td>0.093800</td>\n",
       "      <td>0.602000</td>\n",
       "    </tr>\n",
       "    <tr>\n",
       "      <th>std</th>\n",
       "      <td>0.498415</td>\n",
       "      <td>1.566326</td>\n",
       "      <td>0.444833</td>\n",
       "      <td>0.122409</td>\n",
       "      <td>0.612489</td>\n",
       "      <td>13.545358</td>\n",
       "      <td>0.292948</td>\n",
       "      <td>0.823245</td>\n",
       "    </tr>\n",
       "    <tr>\n",
       "      <th>min</th>\n",
       "      <td>0.000000</td>\n",
       "      <td>0.000000</td>\n",
       "      <td>0.000000</td>\n",
       "      <td>0.000000</td>\n",
       "      <td>0.000000</td>\n",
       "      <td>0.000000</td>\n",
       "      <td>0.000000</td>\n",
       "      <td>0.000000</td>\n",
       "    </tr>\n",
       "    <tr>\n",
       "      <th>25%</th>\n",
       "      <td>0.000000</td>\n",
       "      <td>2.000000</td>\n",
       "      <td>0.000000</td>\n",
       "      <td>0.000000</td>\n",
       "      <td>0.000000</td>\n",
       "      <td>0.000000</td>\n",
       "      <td>0.000000</td>\n",
       "      <td>0.000000</td>\n",
       "    </tr>\n",
       "    <tr>\n",
       "      <th>50%</th>\n",
       "      <td>0.000000</td>\n",
       "      <td>2.000000</td>\n",
       "      <td>0.000000</td>\n",
       "      <td>0.000000</td>\n",
       "      <td>0.000000</td>\n",
       "      <td>0.000000</td>\n",
       "      <td>0.000000</td>\n",
       "      <td>0.000000</td>\n",
       "    </tr>\n",
       "    <tr>\n",
       "      <th>75%</th>\n",
       "      <td>1.000000</td>\n",
       "      <td>2.000000</td>\n",
       "      <td>0.000000</td>\n",
       "      <td>0.000000</td>\n",
       "      <td>0.000000</td>\n",
       "      <td>0.000000</td>\n",
       "      <td>0.000000</td>\n",
       "      <td>1.000000</td>\n",
       "    </tr>\n",
       "    <tr>\n",
       "      <th>max</th>\n",
       "      <td>1.000000</td>\n",
       "      <td>55.000000</td>\n",
       "      <td>10.000000</td>\n",
       "      <td>2.000000</td>\n",
       "      <td>17.000000</td>\n",
       "      <td>122.000000</td>\n",
       "      <td>2.000000</td>\n",
       "      <td>4.000000</td>\n",
       "    </tr>\n",
       "  </tbody>\n",
       "</table>\n",
       "</div>"
      ],
      "text/plain": [
       "       is_canceled       adults     children       babies  booking_changes  \\\n",
       "count  5000.000000  5000.000000  5000.000000  5000.000000      5000.000000   \n",
       "mean      0.459600     1.969800     0.115600     0.014800         0.207200   \n",
       "std       0.498415     1.566326     0.444833     0.122409         0.612489   \n",
       "min       0.000000     0.000000     0.000000     0.000000         0.000000   \n",
       "25%       0.000000     2.000000     0.000000     0.000000         0.000000   \n",
       "50%       0.000000     2.000000     0.000000     0.000000         0.000000   \n",
       "75%       1.000000     2.000000     0.000000     0.000000         0.000000   \n",
       "max       1.000000    55.000000    10.000000     2.000000        17.000000   \n",
       "\n",
       "       days_in_waiting_list  required_car_parking_spaces  \\\n",
       "count           5000.000000                  5000.000000   \n",
       "mean               1.772000                     0.093800   \n",
       "std               13.545358                     0.292948   \n",
       "min                0.000000                     0.000000   \n",
       "25%                0.000000                     0.000000   \n",
       "50%                0.000000                     0.000000   \n",
       "75%                0.000000                     0.000000   \n",
       "max              122.000000                     2.000000   \n",
       "\n",
       "       total_of_special_requests  \n",
       "count                5000.000000  \n",
       "mean                    0.602000  \n",
       "std                     0.823245  \n",
       "min                     0.000000  \n",
       "25%                     0.000000  \n",
       "50%                     0.000000  \n",
       "75%                     1.000000  \n",
       "max                     4.000000  "
      ]
     },
     "execution_count": 24,
     "metadata": {},
     "output_type": "execute_result"
    }
   ],
   "source": [
    "df_pre.describe()"
   ]
  },
  {
   "cell_type": "markdown",
   "id": "neural-portuguese",
   "metadata": {},
   "source": [
    "Dengan table diatas bisa disimpulkan ada beberapa feature yang memiliki outliers seperti children, adults, booking changes dan days_in_waiting_list, maka scaling yang saya gunakan ada robust"
   ]
  },
  {
   "cell_type": "code",
   "execution_count": 25,
   "id": "iraqi-faith",
   "metadata": {},
   "outputs": [],
   "source": [
    "binary_pipe = Pipeline([\n",
    "    ('Missing Nan', SimpleImputer(strategy = 'most_frequent')),\n",
    "    ('Binary Encode', BinaryEncoder())\n",
    "])\n",
    "\n",
    "transformer = ColumnTransformer([\n",
    "    ('One Hot', OneHotEncoder(drop='first'), ['meal','distribution_channel','deposit_type','customer_type']),\n",
    "    ('Binary', binary_pipe, ['country','market_segment','reserved_room_type']),\n",
    "    ('Scale', RobustScaler(), ['adults', 'children', 'babies', 'booking_changes',\n",
    "       'days_in_waiting_list', 'required_car_parking_spaces', 'total_of_special_requests'])\n",
    "], remainder = 'passthrough')"
   ]
  },
  {
   "cell_type": "code",
   "execution_count": 26,
   "id": "rotary-quarterly",
   "metadata": {},
   "outputs": [],
   "source": [
    "def model_evaluation_cv(model):\n",
    "    skfold = StratifiedKFold(n_splits = 5)\n",
    "    estimator = Pipeline([\n",
    "    ('preprocess', transformer),\n",
    "    ('model', model)\n",
    "])\n",
    "    model_cv = cross_val_score(estimator, x_train, y_train, scoring = 'recall', cv = skfold)\n",
    "    return model_cv"
   ]
  },
  {
   "cell_type": "code",
   "execution_count": 27,
   "id": "german-timber",
   "metadata": {},
   "outputs": [
    {
     "name": "stdout",
     "output_type": "stream",
     "text": [
      "score :  [0.95652174 0.94720497 0.92546584 0.94409938 0.92523364]\n",
      "mean score :  0.9397051140651304\n",
      "std score :  0.012413997377058911\n"
     ]
    }
   ],
   "source": [
    "model_cv = model_evaluation_cv(logreg)\n",
    "print_result(model_cv)"
   ]
  },
  {
   "cell_type": "code",
   "execution_count": 28,
   "id": "operating-stack",
   "metadata": {},
   "outputs": [
    {
     "name": "stdout",
     "output_type": "stream",
     "text": [
      "0.9346879535558781\n"
     ]
    }
   ],
   "source": [
    "estimator = Pipeline([\n",
    "    ('transformer', transformer),\n",
    "    ('model', logreg)])\n",
    "estimator.fit(x_train, y_train)\n",
    "y_pred = estimator.predict(x_test)\n",
    "print(recall_score(y_test, y_pred))"
   ]
  },
  {
   "cell_type": "markdown",
   "id": "applied-ozone",
   "metadata": {},
   "source": [
    "Hasilnya turun sebesar 0.03 jika dilakukan robustscaling (dari 0.936 menjadi 0.934), sekarang mau dicoba jika poly dan scaling dilakukan bersama"
   ]
  },
  {
   "cell_type": "markdown",
   "id": "legitimate-fireplace",
   "metadata": {},
   "source": [
    "# POLY THEN SCALING"
   ]
  },
  {
   "cell_type": "code",
   "execution_count": 29,
   "id": "charitable-kingston",
   "metadata": {},
   "outputs": [],
   "source": [
    "binary_pipe = Pipeline([\n",
    "    ('Missing Nan', SimpleImputer(strategy = 'most_frequent')),\n",
    "    ('Binary Encode', BinaryEncoder())\n",
    "])\n",
    "\n",
    "poly_scale_pipe = Pipeline([\n",
    "    ('Polynomial', PolynomialFeatures(degree = 3, interaction_only = False, include_bias = False)),\n",
    "    ('Scaling', RobustScaler())\n",
    "]) #Alasan kenapa saya poly dulu baru scaling, karena pernah baca sebuah article bahwa \n",
    "#sebaiknya dibuat polynomial feature dulu baru di scaling\n",
    "\n",
    "transformer = ColumnTransformer([\n",
    "    ('One Hot', OneHotEncoder(drop='first'), ['meal','distribution_channel','deposit_type','customer_type']),\n",
    "    ('Binary', binary_pipe, ['country','market_segment','reserved_room_type']),\n",
    "    ('Poly', poly_scale_pipe, ['adults', 'children', 'babies', 'booking_changes',\n",
    "       'days_in_waiting_list', 'required_car_parking_spaces', 'total_of_special_requests'])\n",
    "], remainder = 'passthrough')"
   ]
  },
  {
   "cell_type": "code",
   "execution_count": 30,
   "id": "posted-death",
   "metadata": {},
   "outputs": [],
   "source": [
    "def model_evaluation_cv(model):\n",
    "    skfold = StratifiedKFold(n_splits = 5)\n",
    "    estimator = Pipeline([\n",
    "    ('preprocess', transformer),\n",
    "    ('model', model)\n",
    "])\n",
    "    model_cv = cross_val_score(estimator, x_train, y_train, scoring = 'recall', cv = skfold)\n",
    "    return model_cv"
   ]
  },
  {
   "cell_type": "code",
   "execution_count": 31,
   "id": "plain-number",
   "metadata": {},
   "outputs": [
    {
     "name": "stdout",
     "output_type": "stream",
     "text": [
      "score :  [0.48447205 0.38819876 0.21118012 0.26708075 0.3894081 ]\n",
      "mean score :  0.3480679553414214\n",
      "std score :  0.09718309758832536\n"
     ]
    }
   ],
   "source": [
    "model_cv = model_evaluation_cv(logreg)\n",
    "print_result(model_cv)"
   ]
  },
  {
   "cell_type": "code",
   "execution_count": 32,
   "id": "advance-douglas",
   "metadata": {},
   "outputs": [
    {
     "name": "stdout",
     "output_type": "stream",
     "text": [
      "0.8737300435413643\n"
     ]
    }
   ],
   "source": [
    "estimator = Pipeline([\n",
    "    ('transformer', transformer),\n",
    "    ('model', logreg)])\n",
    "estimator.fit(x_train, y_train)\n",
    "y_pred = estimator.predict(x_test)\n",
    "print(recall_score(y_test, y_pred))"
   ]
  },
  {
   "cell_type": "markdown",
   "id": "cooperative-antigua",
   "metadata": {},
   "source": [
    "Setelah dilakukan beberapa test terhadap degreenya, yang paling bagus adalah degree 3 dimana nilai crossvalidasi adalah 0.34 tapi setelah di lakukan test predict, nilainya naik ke 0.873, walau demikian tidak sebagus ketika dilakukan scaling atau poly sendirian. Oleh karena itu saya akan memakai yang terbaik yaitu polynomial, dan dilakukan hyperparams"
   ]
  },
  {
   "cell_type": "markdown",
   "id": "upset-resource",
   "metadata": {},
   "source": [
    "# HYPERPARAMS"
   ]
  },
  {
   "cell_type": "code",
   "execution_count": 33,
   "id": "christian-prior",
   "metadata": {},
   "outputs": [],
   "source": [
    "binary_pipe = Pipeline([\n",
    "    ('Missing Nan', SimpleImputer(strategy = 'most_frequent')),\n",
    "    ('Binary Encode', BinaryEncoder())\n",
    "])\n",
    "\n",
    "transformer = ColumnTransformer([\n",
    "    ('One Hot', OneHotEncoder(drop='first'), ['meal','distribution_channel','deposit_type','customer_type']),\n",
    "    ('Binary', binary_pipe, ['country','market_segment','reserved_room_type']),\n",
    "    ('Poly', PolynomialFeatures(degree = 4, interaction_only = False, include_bias = False), ['adults', 'children', 'babies', 'booking_changes',\n",
    "       'days_in_waiting_list', 'required_car_parking_spaces', 'total_of_special_requests'])\n",
    "], remainder = 'passthrough')"
   ]
  },
  {
   "cell_type": "code",
   "execution_count": 34,
   "id": "documentary-tuning",
   "metadata": {},
   "outputs": [],
   "source": [
    "estimator = Pipeline([\n",
    "    ('preprocess', transformer),\n",
    "    ('model', logreg)\n",
    "])"
   ]
  },
  {
   "cell_type": "code",
   "execution_count": 35,
   "id": "municipal-sense",
   "metadata": {},
   "outputs": [
    {
     "data": {
      "text/plain": [
       "('Poly',\n",
       " PolynomialFeatures(degree=4, include_bias=False),\n",
       " ['adults',\n",
       "  'children',\n",
       "  'babies',\n",
       "  'booking_changes',\n",
       "  'days_in_waiting_list',\n",
       "  'required_car_parking_spaces',\n",
       "  'total_of_special_requests'])"
      ]
     },
     "execution_count": 35,
     "metadata": {},
     "output_type": "execute_result"
    }
   ],
   "source": [
    "estimator[0].transformers[2]"
   ]
  },
  {
   "cell_type": "code",
   "execution_count": 36,
   "id": "regulated-marsh",
   "metadata": {},
   "outputs": [],
   "source": [
    "hyperparam_space =[\n",
    "    {'model__solver':['newton-cg', 'lbfgs', 'liblinear', 'sag', 'saga'],\n",
    "    'model__C' : [100, 10, 1, 0.1, 0.01, 0.001],\n",
    "    'preprocess__Poly__degree' : [2, 3, 4, 5]}\n",
    "]"
   ]
  },
  {
   "cell_type": "code",
   "execution_count": 37,
   "id": "biological-detroit",
   "metadata": {},
   "outputs": [],
   "source": [
    "skfold = StratifiedKFold(n_splits = 5)\n",
    "grid_search = GridSearchCV(estimator, param_grid = hyperparam_space, cv = skfold, scoring = 'recall', n_jobs = -1)"
   ]
  },
  {
   "cell_type": "code",
   "execution_count": 38,
   "id": "numeric-swing",
   "metadata": {},
   "outputs": [
    {
     "data": {
      "text/plain": [
       "GridSearchCV(cv=StratifiedKFold(n_splits=5, random_state=None, shuffle=False),\n",
       "             estimator=Pipeline(steps=[('preprocess',\n",
       "                                        ColumnTransformer(remainder='passthrough',\n",
       "                                                          transformers=[('One '\n",
       "                                                                         'Hot',\n",
       "                                                                         OneHotEncoder(drop='first'),\n",
       "                                                                         ['meal',\n",
       "                                                                          'distribution_channel',\n",
       "                                                                          'deposit_type',\n",
       "                                                                          'customer_type']),\n",
       "                                                                        ('Binary',\n",
       "                                                                         Pipeline(steps=[('Missing '\n",
       "                                                                                          'Nan',\n",
       "                                                                                          SimpleImputer(strategy='most_fre...\n",
       "                                                                          'children',\n",
       "                                                                          'babies',\n",
       "                                                                          'booking_changes',\n",
       "                                                                          'days_in_waiting_list',\n",
       "                                                                          'required_car_parking_spaces',\n",
       "                                                                          'total_of_special_requests'])])),\n",
       "                                       ('model',\n",
       "                                        LogisticRegression(solver='liblinear'))]),\n",
       "             n_jobs=-1,\n",
       "             param_grid=[{'model__C': [100, 10, 1, 0.1, 0.01, 0.001],\n",
       "                          'model__solver': ['newton-cg', 'lbfgs', 'liblinear',\n",
       "                                            'sag', 'saga'],\n",
       "                          'preprocess__Poly__degree': [2, 3, 4, 5]}],\n",
       "             scoring='recall')"
      ]
     },
     "execution_count": 38,
     "metadata": {},
     "output_type": "execute_result"
    }
   ],
   "source": [
    "grid_search.fit(x_train, y_train)"
   ]
  },
  {
   "cell_type": "code",
   "execution_count": 39,
   "id": "contemporary-raleigh",
   "metadata": {},
   "outputs": [
    {
     "name": "stdout",
     "output_type": "stream",
     "text": [
      "best score  0.9968944099378882\n",
      "best score  {'model__C': 100, 'model__solver': 'liblinear', 'preprocess__Poly__degree': 5}\n"
     ]
    }
   ],
   "source": [
    "print('best score ', grid_search.best_score_)\n",
    "print('best score ', grid_search.best_params_)"
   ]
  },
  {
   "cell_type": "code",
   "execution_count": 40,
   "id": "innocent-offer",
   "metadata": {},
   "outputs": [
    {
     "name": "stdout",
     "output_type": "stream",
     "text": [
      "0.9956458635703919\n"
     ]
    }
   ],
   "source": [
    "grid_search.best_estimator_.fit(x_train, y_train)\n",
    "y_pred = grid_search.best_estimator_.predict(x_test)\n",
    "print(recall_score(y_test, y_pred))"
   ]
  },
  {
   "cell_type": "markdown",
   "id": "harmful-college",
   "metadata": {},
   "source": [
    "1. Setelah Anda memilih benchmark model terbaik, lakukan hyperparameter tunning untuk meningkatkan preforma model Anda! Parameter apa saja yang anda pilih untuk tunning? Jelaskan maksud dari tiap-tiap parameter tersebut!\n",
    "\n",
    "        Parameter yang dipilih adalah solver dan C dari parameternya model Logistic Regression, \n",
    "        dan degree dan polynomial.\n",
    "            - Solver adalah parameter logreg dalam menentukan algoritma apa yang mau kita gunakan\n",
    "            - C adalah parameter logreg yang dari article yang saya baca dulu, untuk mengurangin \n",
    "            overfitting\n",
    "            - Degree adalah parameter pada polynomial, yang dimana angkanya mempresentasikan pangkat \n",
    "            persamaan, seperti jika degreenya 2 pada column a dan b, maka featurenya menjadi \n",
    "            a, b, a^2, ab, b^2\n",
    "\n",
    "2. Bagaimana performa model Anda setelah Hyper-parameter Tuning? Apakah ada tahap lanjutan yang bisa Anda lakukan untuk meningkatkan performa model lebih jauh? Buat kesimpulan akhir, model mana yang akan Anda pakai untuk memprediksi apakah user akan cancel booking atau tidak!\n",
    "\n",
    "    Performanya meningkat dari dari 0.936 logreg biasa, menjadi 0.991 di polynomial hingga menjadi 0.995 setelah dilakukan hyperparameter tuning dengan 'model__C': 100, 'model__solver': 'liblinear', 'preprocess__Poly__degree': 5. \n",
    "    \n",
    "# CONCLUSION\n",
    "\n",
    "    Model yang digunakan adalah LogisticRegression yang menggunakan polynomial dan telah dilakukan\n",
    "    hyperparameter tuning untuk mendapatkan parameter terbaik yaitu :\n",
    "    'model__C': 100 \n",
    "    'model__solver': 'liblinear' \n",
    "    'preprocess__Poly__degree': 5\n",
    "    Dengan Tingkat akurasi recall sebesar 0.9956458635703919"
   ]
  }
 ],
 "metadata": {
  "kernelspec": {
   "display_name": "Python 3",
   "language": "python",
   "name": "python3"
  },
  "language_info": {
   "codemirror_mode": {
    "name": "ipython",
    "version": 3
   },
   "file_extension": ".py",
   "mimetype": "text/x-python",
   "name": "python",
   "nbconvert_exporter": "python",
   "pygments_lexer": "ipython3",
   "version": "3.7.9"
  }
 },
 "nbformat": 4,
 "nbformat_minor": 5
}
